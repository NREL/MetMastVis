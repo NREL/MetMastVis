{
 "cells": [
  {
   "cell_type": "code",
   "execution_count": 36,
   "metadata": {},
   "outputs": [],
   "source": [
    "import numpy as np\n",
    "import pandas as pd\n",
    "import pickle as pkl\n",
    "import matplotlib.pyplot as plt\n",
    "import os, sys"
   ]
  },
  {
   "cell_type": "code",
   "execution_count": 3,
   "metadata": {},
   "outputs": [],
   "source": [
    "datapath = '../../data/IEC_2/'\n",
    "fPaths = os.listdir(datapath)"
   ]
  },
  {
   "cell_type": "code",
   "execution_count": 6,
   "metadata": {},
   "outputs": [],
   "source": [
    "fPaths.sort()"
   ]
  },
  {
   "cell_type": "code",
   "execution_count": 29,
   "metadata": {},
   "outputs": [],
   "source": [
    "# demo load data\n",
    "for ifile, file in enumerate(fPaths):\n",
    "    \n",
    "    loadfile = os.path.join(datapath,file)\n",
    "    with open(loadfile, 'rb') as f:\n",
    "        test= pkl.load(f)\n",
    "    \n",
    "    if ifile == 0:\n",
    "        events = test.copy()\n",
    "    \n",
    "    for key in events:\n",
    "        events[key] = pd.concat([events[key],test[key]])"
   ]
  },
  {
   "cell_type": "code",
   "execution_count": 43,
   "metadata": {},
   "outputs": [
    {
     "data": {
      "image/png": "[encoded data removed]",
      "text/plain": [
       "<matplotlib.figure.Figure at 0x10e5dd128>"
      ]
     },
     "metadata": {},
     "output_type": "display_data"
    }
   ],
   "source": [
    "fig,ax = plt.subplots(2,1)\n",
    "events['ETM']['WS'].hist(ax=ax[0],color='C1',edgecolor='k')\n",
    "ax[0].set_xlabel('Wind Speed [m/s]')\n",
    "ax[0].set_ylabel('Counts [-]')\n",
    "\n",
    "events['ETM']['WD'].hist(ax=ax[1],color='C1',edgecolor='k')\n",
    "ax[1].set_xlabel('Wind Direction [m/s]')\n",
    "ax[1].set_ylabel('Counts [-]')\n",
    "\n",
    "fig.tight_layout()"
   ]
  },
  {
   "cell_type": "code",
   "execution_count": null,
   "metadata": {},
   "outputs": [],
   "source": []
  }
 ],
 "metadata": {
  "kernelspec": {
   "display_name": "Python 3",
   "language": "python",
   "name": "python3"
  },
  "language_info": {
   "codemirror_mode": {
    "name": "ipython",
    "version": 3
   },
   "file_extension": ".py",
   "mimetype": "text/x-python",
   "name": "python",
   "nbconvert_exporter": "python",
   "pygments_lexer": "ipython3",
   "version": "3.6.4"
  }
 },
 "nbformat": 4,
 "nbformat_minor": 2
}
