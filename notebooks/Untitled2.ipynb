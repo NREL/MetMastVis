{
 "cells": [
  {
   "cell_type": "code",
   "execution_count": 1,
   "metadata": {},
   "outputs": [],
   "source": [
    "%load_ext autoreload\n",
    "%autoreload 2\n",
    "\n",
    "# fundamentals\n",
    "import os, sys\n",
    "import numpy as np\n",
    "import pandas as pd\n",
    "from calendar import monthrange, month_name\n",
    "import scipy.stats as stats\n",
    "import datetime\n",
    "import imp\n",
    "import scipy.io as sio\n",
    "import pickle as pkl\n",
    "\n",
    "# plotting libraries and setup\n",
    "from matplotlib.colors import BoundaryNorm\n",
    "import matplotlib.pyplot as plt\n",
    "plt.style.use('nrelplot')\n",
    "from windrose import WindroseAxes\n",
    "\n",
    "# met mast functions and utilities\n",
    "sys.path.append('../')\n",
    "import met_funcs as MET\n",
    "import vis as vis\n",
    "import utils as utils"
   ]
  },
  {
   "cell_type": "code",
   "execution_count": 2,
   "metadata": {},
   "outputs": [],
   "source": [
    "datapath = '/Users/nhamilto/Documents/Wake_Dynamics/SiteChar/data/IEC_4/'\n",
    "monthly_events_files = os.listdir(datapath)\n",
    "today = datetime.date.today()\n",
    "figpath = '../figs_{}{}{}'.format(str(today.year), str(today.month).zfill(2), str(today.day).zfill(2))\n",
    "\n",
    "try:\n",
    "    os.makedirs(figpath)\n",
    "except:\n",
    "    pass"
   ]
  },
  {
   "cell_type": "code",
   "execution_count": 8,
   "metadata": {},
   "outputs": [],
   "source": [
    "###########################################\n",
    "def rose_fig(metdat, varcol, dircol, bins=6, nsector=36, ylim=None, noleg=False):\n",
    "    ###########################################\n",
    "    \"\"\"\n",
    "    make wind rose from pandas.Series wind direction and some other value of the same size.\n",
    "    Parameters:\n",
    "        metdat:\n",
    "            Pandas dataframe containing met mast data\n",
    "        catinfo:\n",
    "            dict containing categorization info for the metmast data. Fore each category,\n",
    "            catinfo holds column names, labels, units, and save names\n",
    "        category:\n",
    "            string specifying category of information to plot (e.g. 'speed', 'stability', etc.)\n",
    "        vertloc:\n",
    "            int or float describing the exact or approximate height of interest along the tower\n",
    "        bins:\n",
    "            int specifying number of equally spaced bins to divide var.\n",
    "            OR\n",
    "            list of bin division limits (eg [0,4,8,12,16])\n",
    "        nsector:\n",
    "            number or direction sectors to divide rose\n",
    "        ylim:\n",
    "            optional float with maximum value for frequency of observations, use to\n",
    "            plot different roses with uniform limits\n",
    "        noleg:\n",
    "            bool switch to turn legend off\n",
    "    \"\"\"\n",
    "\n",
    "    # set up data\n",
    "    winddir = metdat[dircol]\n",
    "    var = metdat[varcol]\n",
    "\n",
    "    relabel = False\n",
    "    if not isinstance(bins, int):\n",
    "        if ((bins < 0).any()):\n",
    "            bins *= -1\n",
    "            relabel = True\n",
    "        \n",
    "    # get var divisions set up\n",
    "    if isinstance(bins, int):\n",
    "        nbins = bins\n",
    "    else:\n",
    "        nbins = len(bins)\n",
    "\n",
    "    # set up plotting colors\n",
    "    colors = utils.get_colors(nbins-1, basecolor='span')\n",
    "    colors += ['#3A4246'] # add something dark to the end.\n",
    "    colors = tuple(colors[0:nbins])\n",
    "\n",
    "    # built figure\n",
    "    fig = plt.figure()\n",
    "    ax = WindroseAxes.from_ax(fig=fig)\n",
    "    ax.bar(winddir, var, normed=True, opening=0.95, edgecolor='white', bins=bins, nsector=nsector, colors=colors, linewidth=0.35)\n",
    "\n",
    "    # legend\n",
    "    leg=['blank']\n",
    "    if noleg is not True:\n",
    "        leg = ax.set_legend(loc=6,bbox_to_anchor=(1.25,0.5), fontsize=10, frameon=False)\n",
    "        \n",
    "        if relabel:\n",
    "            for ii in range(nbins-1):\n",
    "                leg.get_texts()[ii].set_text('[{}: {})'.format(-bins[ii], -bins[ii+1]))\n",
    "            leg.get_texts()[-1].set_text('[{}: {})'.format(-bins[-1], '-inf'))\n",
    "\n",
    "    # adjust plot for specified max frequency\n",
    "    if ylim is None:\n",
    "        ylim = ax.get_ylim()[-1]\n",
    "\n",
    "    # frequency axis limits and labels\n",
    "    ax.set_ylim(0,ylim)\n",
    "    ax.set_yticks(np.linspace(0,ylim,4))\n",
    "    ax.set_yticklabels([str(round(x,1)) for x in np.linspace(0,ylim,4)])\n",
    "\n",
    "\n",
    "    return fig, ax, leg\n",
    "###########################################\n",
    "\n",
    "def extreme_event_hist(eventdf, varcols, labels, bins=25, colors=None, alpha=1):\n",
    "    '''\n",
    "    \n",
    "    '''\n",
    "    \n",
    "    fig, ax = plt.subplots(figsize=(5,3))\n",
    "\n",
    "    if colors is None:\n",
    "        colors = plt.rcParams['axes.prop_cycle'].by_key()['color']\n",
    "        colors = [colors[x] for x in [2,1,3]]\n",
    "\n",
    "    for ii, var in enumerate(varcols):\n",
    "        data = eventdf[var].dropna(how='any')\n",
    "\n",
    "\n",
    "        n,histbins,patches = ax.hist(data,\n",
    "                                    bins = bins,\n",
    "                                    facecolor=colors[ii],\n",
    "                                    edgecolor='k',\n",
    "                                    weights=100*np.ones(data.shape) / len(data), \n",
    "                                    density=False,\n",
    "                                    label=labels[ii], alpha=alpha)\n",
    "    leg = ax.legend(frameon=False)\n",
    "    ax.set_ylabel('Frequency [\\%]')\n",
    "    \n",
    "    return fig, ax, leg\n",
    "\n",
    "def extreme_event_wind_direction_bar(eventdf, varcols, labels, colors=None):\n",
    "    '''\n",
    "    \n",
    "    '''\n",
    "    if colors is None:\n",
    "        colors = plt.rcParams['axes.prop_cycle'].by_key()['color']\n",
    "        colors = [colors[x] for x in [2,1,3]]\n",
    "        \n",
    "    event_bydir = eventdf.groupby('dirbin').count()\n",
    "    tmp = event_bydir[varcols].copy()\n",
    "    tmp = 100*tmp.div(tmp.sum())\n",
    "\n",
    "    fig, ax = plt.subplots(figsize=(8,3))\n",
    "    \n",
    "    tmp.plot.bar(ax=ax, color=colors[:len(varcols)], width=0.9, edgecolor='k')\n",
    "    leg  = ax.legend(labels)\n",
    "    ax.set_xticks(ax.get_xticks()[::2])\n",
    "    ax.set_xlabel('Wind Direction [$^\\circ$]')\n",
    "    ax.set_ylabel('Frequency [\\%]')\n",
    "\n",
    "    return fig, ax, leg\n",
    "\n",
    "# fig.savefig('../figs_20190109/alpha_bar.pdf')\n",
    "\n",
    "def extreme_event_monthly_bar(eventdf, varcols, labels, colors=None):\n",
    "    '''\n",
    "    \n",
    "    '''\n",
    "    \n",
    "    if colors is None:\n",
    "        colors = plt.rcParams['axes.prop_cycle'].by_key()['color']\n",
    "        colors = [colors[x] for x in [2,1,3]]\n",
    "\n",
    "    numyears = eventDF.index.year.max() - eventDF.index.year.min()\n",
    "    monthly = eventdf[varcols].groupby(eventdf.index.month).count()/numyears\n",
    "#     monthly = monthly.div(monthly.sum())*100\n",
    "\n",
    "    fig, ax = plt.subplots(figsize=(5,3))\n",
    "    monthly.plot.bar(ax=ax, label=labels, color=colors[:len(varcols)])\n",
    "    ax.set_xlabel('Month')\n",
    "    ax.set_ylabel('Events Per Month')\n",
    "    leg = ax.legend(labels, frameon=False)\n",
    "\n",
    "    return fig, ax, leg \n",
    "\n",
    "\n",
    "def extreme_event_velocity_scatter(eventdf, varcols, labels, colors=None, ):\n",
    "    '''\n",
    "    \n",
    "    '''\n",
    "    if colors is None:\n",
    "        colors = plt.rcParams['axes.prop_cycle'].by_key()['color']\n",
    "        colors = [colors[x] for x in [2,1,3]]\n",
    "    \n",
    "    fig, ax = plt.subplots(figsize=(5,3))\n",
    "\n",
    "    for ii, var in enumerate(varcols):\n",
    "        eventdf.plot.scatter('WS_mean', var, ax=ax, edgecolor=colors[ii], color='w', label=labels[ii])\n",
    "\n",
    "    ax.set_xlabel('Hub-Height Velocity [m/s]')\n",
    "    ax.legend(frameon=False)\n",
    "\n",
    "    return fig, ax, leg "
   ]
  },
  {
   "cell_type": "code",
   "execution_count": 242,
   "metadata": {},
   "outputs": [],
   "source": [
    "# time range\n",
    "# years  = [ int(a) for a in np.arange(2012,2019,1) ] #\n",
    "# months = [ int(a) for a in np.arange(1,12.1,1) ]\n",
    "# days = [int(a) for a in np.arange(1,31.1,1)]\n",
    "\n",
    "years  = [ 2015 ] #\n",
    "months = [ 11 ]\n",
    "days = [int(a) for a in np.arange(1,8.1,1)]\n",
    "\n",
    "# paths (must mount volume smb://nrel.gov/shared/wind/WindWeb/MetData/135mData/)\n",
    "towerID = 'M5'\n",
    "metDataPath = '/Volumes/135mData/{}Twr/20Hz/mat/'.format(towerID)\n",
    "\n",
    "savepath = '/Users/nhamilto/Documents/Wake_Dynamics/SiteChar/data/IEC_3'\n",
    "try:\n",
    "    os.makedirs(savepath)\n",
    "except:\n",
    "    pass"
   ]
  },
  {
   "cell_type": "code",
   "execution_count": 243,
   "metadata": {},
   "outputs": [
    {
     "name": "stdout",
     "output_type": "stream",
     "text": [
      "reading 20Hz data for 2015/11\n",
      "empty datapath: /Volumes/135mData/M5Twr/20Hz/mat/2015/11/01\n",
      "empty datapath: /Volumes/135mData/M5Twr/20Hz/mat/2015/11/02\n",
      "empty datapath: /Volumes/135mData/M5Twr/20Hz/mat/2015/11/03\n",
      "empty datapath: /Volumes/135mData/M5Twr/20Hz/mat/2015/11/04\n",
      "empty datapath: /Volumes/135mData/M5Twr/20Hz/mat/2015/11/05\n"
     ]
    },
    {
     "name": "stderr",
     "output_type": "stream",
     "text": [
      "/Users/nhamilto/anaconda/lib/python3.6/site-packages/ipykernel_launcher.py:67: FutureWarning: Sorting because non-concatenation axis is not aligned. A future version\n",
      "of pandas will change to not sort by default.\n",
      "\n",
      "To accept the future behavior, pass 'sort=False'.\n",
      "\n",
      "To retain the current behavior and silence the warning, pass 'sort=True'.\n",
      "\n"
     ]
    }
   ],
   "source": [
    "wskeys = [x for x in data.keys() if 'Speed' in x or 'WS' in x]\n",
    "wdkeys = [x for x in data.keys() if 'direction' in x or 'WD' in x]\n",
    "probeheight = str(87)\n",
    "datakeys = [['time_UTC'], [x for x in wskeys if probeheight in x], [x for x in wdkeys if probeheight in x]]\n",
    "datakeys = [item for sublist in datakeys for item in sublist]\n",
    "\n",
    "for year in years:\n",
    "    for month in months:\n",
    "\n",
    "        # begin empty lists for events\n",
    "        EDCevents = pd.DataFrame()\n",
    "        ECDevents = pd.DataFrame()\n",
    "        \n",
    "        print('reading 20Hz data for {}/{}'.format(year, month))\n",
    "\n",
    "        for day in days:\n",
    "            sonicdat = pd.DataFrame()\n",
    "            \n",
    "            datapath = os.path.join(metDataPath, str(year),\n",
    "                                    str(month).zfill(2),\n",
    "                                    str(day).zfill(2))\n",
    "\n",
    "            # establish existence of directory\n",
    "            try:\n",
    "                fPaths = os.listdir(datapath)\n",
    "            except:\n",
    "                print('empty datapath: {}'.format(datapath))\n",
    "                continue\n",
    "\n",
    "            if len(fPaths) is 0:\n",
    "                continue\n",
    "\n",
    "            for filenum, file in enumerate(fPaths):\n",
    "\n",
    "                # load data\n",
    "                \n",
    "                try:\n",
    "                    data = sio.loadmat(os.path.join(datapath, file), variable_names=datakeys)\n",
    "                except:\n",
    "                    print('data not found? looks like you have some homework...')\n",
    "                    continue\n",
    "\n",
    "                # print('data loaded from {}'.format(os.path.join(datapath, file)))\n",
    "                data = {key: data[key][0][0][0].squeeze() for key in datakeys}\n",
    "                data['time_UTC'] = utils.matlab_datenum_to_python_datetime(data['time_UTC'])\n",
    "                data = pd.DataFrame.from_dict(data)\n",
    "                data.set_index('time_UTC', inplace=True)\n",
    "                data.index = pd.DatetimeIndex(data.index)\n",
    "\n",
    "                sonicdat = pd.concat([sonicdat, data])\n",
    "                \n",
    "            sonicdat.columns = ['WS', 'WD']\n",
    "            sonicdat = sonicdat.rolling(60, center=True, min_periods=1).mean()\n",
    "#             sonicdat.index = pd.DatetimeIndex(sonicdat.index)\n",
    "\n",
    "            temp = sonicdat['WS'].dropna()\n",
    "            if len(temp) < 1000:\n",
    "                continue\n",
    "\n",
    "            # extract variables needed for classificiation of IEC events\n",
    "            params = MET.setup_IEC_params() # sonicdat, probeheight=100\n",
    "\n",
    "            EDC_events_found = MET.find_EDC_events(sonicdat, params)\n",
    "            EDCevents = pd.concat([EDCevents, EDC_events_found])\n",
    "\n",
    "            EDC_events_found = EDC_alt(sonicdat, params)\n",
    "            EDCeventsALT = pd.concat([EDCevents, EDC_events_found])\n",
    "#             ECD_events_found = MET.find_ECD_events(sonicdat, params)\n",
    "#             ECDevents = pd.concat([ECDevents, ECD_events_found])\n",
    "\n",
    "#                 allshearcalcs = pd.concat([allshearcalcs, shearevents])\n",
    "                                \n",
    "#         if len(EWSevents) > 0:\n",
    "#             filename = 'EWSevents_{}_{}.pkl'.format(year, month)\n",
    "#             savefile = os.path.join(savepath, filename)\n",
    "#             print('EWS event detected. Stored to: {}'.format(filename))\n",
    "#             with open(savefile, 'wb') as f:\n",
    "#                 pkl.dump(EWSevents, f, pkl.HIGHEST_PROTOCOL)"
   ]
  },
  {
   "cell_type": "code",
   "execution_count": 244,
   "metadata": {},
   "outputs": [
    {
     "data": {
      "text/plain": [
       "(989, 9)"
      ]
     },
     "execution_count": 244,
     "metadata": {},
     "output_type": "execute_result"
    }
   ],
   "source": [
    "EDCevents.shape"
   ]
  },
  {
   "cell_type": "code",
   "execution_count": 245,
   "metadata": {},
   "outputs": [
    {
     "data": {
      "text/plain": [
       "(1177, 10)"
      ]
     },
     "execution_count": 245,
     "metadata": {},
     "output_type": "execute_result"
    }
   ],
   "source": [
    "EDCeventsALT.shape"
   ]
  },
  {
   "cell_type": "code",
   "execution_count": 332,
   "metadata": {},
   "outputs": [],
   "source": [
    "wskeys = ['Cup_WS_C1_130m',\n",
    " 'Cup_WS_122m',\n",
    " 'Cup_WS_C1_105m',\n",
    " 'Cup_WS_87m',\n",
    " 'Cup_WS_C1_80m',\n",
    " 'Cup_WS_C1_55m',\n",
    " 'Cup_WS_38m',\n",
    " 'Cup_WS_C1_30m',\n",
    " 'Cup_WS_10m',\n",
    " 'Cup_WS_3m',\n",
    " 'Sonic_CupEqHorizSpeed_119m',\n",
    " 'Sonic_CupEqHorizSpeed_100m',\n",
    " 'Sonic_CupEqHorizSpeed_74m',\n",
    " 'Sonic_CupEqHorizSpeed_61m',\n",
    " 'Sonic_CupEqHorizSpeed_41m',\n",
    " 'Sonic_CupEqHorizSpeed_15m']\n",
    "\n",
    "wdkeys = ['Vane_WD_122m',\n",
    " 'Vane_WD_87m',\n",
    " 'Vane_WD_38m',\n",
    " 'Vane_WD_10m',\n",
    " 'Vane_WD_3m',\n",
    " 'Sonic_direction_119m',\n",
    " 'Sonic_direction_100m',\n",
    " 'Sonic_direction_74m',\n",
    " 'Sonic_direction_61m',\n",
    " 'Sonic_direction_41m',\n",
    " 'Sonic_direction_15m']"
   ]
  },
  {
   "cell_type": "code",
   "execution_count": 253,
   "metadata": {},
   "outputs": [],
   "source": [
    "EDCevents['dirbin'] = pd.cut(EDCevents['WD_mean'], np.arange(0, 360.1, 10), [str(x) for x in np.arange(5, 360.1, 10)])\n",
    "EDCeventsALT['dirbin'] = pd.cut(EDCeventsALT['WD_mean'], np.arange(0, 360.1, 10), [str(x) for x in np.arange(5, 360.1, 10)])"
   ]
  },
  {
   "cell_type": "code",
   "execution_count": 255,
   "metadata": {},
   "outputs": [
    {
     "data": {
      "image/png": "[encoded data removed]",
      "text/plain": [
       "<matplotlib.figure.Figure at 0x124dd6dd8>"
      ]
     },
     "metadata": {},
     "output_type": "display_data"
    },
    {
     "data": {
      "image/png": "[encoded data removed]",
      "text/plain": [
       "<matplotlib.figure.Figure at 0x124eeb400>"
      ]
     },
     "metadata": {},
     "output_type": "display_data"
    }
   ],
   "source": [
    "fig, ax, leg = extreme_event_wind_direction_bar(EDCevents, 'WD_mean', 'wdir', colors='C1')\n",
    "fig, ax, leg = extreme_event_wind_direction_bar(EDCeventsALT, 'WD_mean', 'wdir', colors='C2')"
   ]
  },
  {
   "cell_type": "code",
   "execution_count": 123,
   "metadata": {},
   "outputs": [],
   "source": [
    "def EDC_alt(sonicdat, params, T=6.0):\n",
    "    # smoothsonic = sonicdat.rolling(60, min_periods=1).mean()\n",
    "    tmp = MET.sonic_data_resampler(sonicdat, 6.0)\n",
    "\n",
    "    # calculate diff: Delta_WD = WD_(t+1) - WD_(t-1)\n",
    "    tmpa = tmp['WD_mean'].diff(periods=1)\n",
    "    tmpb = tmp['WD_mean'].diff(periods=-1)\n",
    "    tmp['deltaWD'] = tmpa-tmpb\n",
    "\n",
    "    # Orient Delta_WD onto compass (i.e. change > 180 degrees corresponds to a change in the other direction)\n",
    "    tmp.deltaWD[tmp.deltaWD > 180] = -360 + tmp.deltaWD[tmp.deltaWD > 180]\n",
    "    tmp.deltaWD[tmp.deltaWD < -180] = 360 + tmp.deltaWD[tmp.deltaWD < -180]\n",
    "\n",
    "    # Turbulence standard deviation depends on mean wind speed\n",
    "    tmp['sigma_1'] = params['Iref'] * (0.75 * tmp['WS_mean'] + 5.6)\n",
    "\n",
    "    # Direction change threshold depends on wind speed\n",
    "    tmp['delta_WD_thresh'] = np.degrees(4 * np.arctan( tmp['sigma_1'] / (tmp['WS_mean'] * (1 + 0.1 * params['D'] / params['Lambda_1']))))\n",
    "\n",
    "    # event detection\n",
    "    tmpEDC = tmp[(tmp['deltaWD'] > tmp['delta_WD_thresh']) | (tmp['deltaWD'] < -tmp['delta_WD_thresh'])]\n",
    "    \n",
    "    return tmpEDC"
   ]
  },
  {
   "cell_type": "code",
   "execution_count": 116,
   "metadata": {},
   "outputs": [],
   "source": [
    "# smoothsonic = sonicdat.rolling(60, min_periods=1).mean()\n",
    "tmp = MET.sonic_data_resampler(sonicdat, 6.0)\n",
    "\n",
    "# calculate diff: Delta_WD = WD_(t+1) - WD_(t-1)\n",
    "tmpa = tmp['WD_mean'].diff(periods=1)\n",
    "tmpb = tmp['WD_mean'].diff(periods=-1)\n",
    "tmp['deltaWD'] = tmpa-tmpb\n",
    "\n",
    "# Orient Delta_WD onto compass (i.e. change > 180 degrees corresponds to a change in the other direction)\n",
    "tmp.deltaWD[tmp.deltaWD > 180] = -360 + tmp.deltaWD[tmp.deltaWD > 180]\n",
    "tmp.deltaWD[tmp.deltaWD < -180] = 360 + tmp.deltaWD[tmp.deltaWD < -180]\n",
    "\n",
    "# Turbulence standard deviation depends on mean wind speed\n",
    "tmp['sigma_1'] = params['Iref'] * (0.75 * tmp['WS_mean'] + 5.6)\n",
    "\n",
    "# Direction change threshold depends on wind speed\n",
    "tmp['delta_WD_thresh'] = np.degrees(4 * np.arctan( tmp['sigma_1'] / (tmp['WS_mean'] * (1 + 0.1 * params['D'] / params['Lambda_1']))))\n",
    "\n",
    "# event detection\n",
    "tmpEDC = tmp[(tmp['deltaWD'] > tmp['delta_WD_thresh']) | (tmp['deltaWD'] < -tmp['delta_WD_thresh'])]"
   ]
  },
  {
   "cell_type": "code",
   "execution_count": 258,
   "metadata": {},
   "outputs": [
    {
     "data": {
      "text/plain": [
       "[<matplotlib.lines.Line2D at 0x126b66518>]"
      ]
     },
     "execution_count": 258,
     "metadata": {},
     "output_type": "execute_result"
    },
    {
     "data": {
      "image/png": "[encoded data removed]",
      "text/plain": [
       "<matplotlib.figure.Figure at 0x124f02e10>"
      ]
     },
     "metadata": {},
     "output_type": "display_data"
    }
   ],
   "source": [
    "fig,ax = plt.subplots(figsize=(12,2))\n",
    "ax.plot(EDCevents['delta_WD'])\n",
    "ax.plot(EDCevents['delta_WD'], 'o')\n",
    "# ax.plot(tmpEDC2['delta_WD'], 'o')"
   ]
  },
  {
   "cell_type": "code",
   "execution_count": 86,
   "metadata": {},
   "outputs": [
    {
     "data": {
      "text/plain": [
       "[<matplotlib.lines.Line2D at 0x1146cc6d8>]"
      ]
     },
     "execution_count": 86,
     "metadata": {},
     "output_type": "execute_result"
    },
    {
     "data": {
      "image/png": "[encoded data removed]",
      "text/plain": [
       "<matplotlib.figure.Figure at 0x108625b70>"
      ]
     },
     "metadata": {},
     "output_type": "display_data"
    }
   ],
   "source": [
    "fig,ax = plt.subplots(figsize=(12,2))\n",
    "ax.plot(tmp['deltaWD'])\n",
    "ax.plot(tmpEDC['deltaWD'], 'o')"
   ]
  },
  {
   "cell_type": "code",
   "execution_count": 76,
   "metadata": {},
   "outputs": [
    {
     "data": {
      "text/plain": [
       "<matplotlib.axes._subplots.AxesSubplot at 0x1144fbdd8>"
      ]
     },
     "execution_count": 76,
     "metadata": {},
     "output_type": "execute_result"
    },
    {
     "data": {
      "image/png": "[encoded data removed]",
      "text/plain": [
       "<matplotlib.figure.Figure at 0x113ca04e0>"
      ]
     },
     "metadata": {},
     "output_type": "display_data"
    }
   ],
   "source": [
    "fig, ax = plt.subplots()\n",
    "tmpEDC.plot.scatter('WS_mean', 'deltaWD', ax=ax)\n",
    "EDCevents.plot.scatter('WS_mean', 'delta_WD', ax=ax, color='C2')"
   ]
  },
  {
   "cell_type": "code",
   "execution_count": 56,
   "metadata": {},
   "outputs": [
    {
     "name": "stderr",
     "output_type": "stream",
     "text": [
      "/Users/nhamilto/anaconda/lib/python3.6/site-packages/ipykernel_launcher.py:5: RuntimeWarning: divide by zero encountered in true_divide\n",
      "  \"\"\"\n"
     ]
    }
   ],
   "source": [
    "wsmean = np.linspace(0,45,100)\n",
    "\n",
    "sigma_1 = params['Iref'] * (0.75 * wsmean + 5.6)\n",
    "\n",
    "delta_WD_thresh = np.degrees(4 * np.arctan( sigma_1 / (wsmean * (1 + 0.1 * params['D'] / params['Lambda_1']))))"
   ]
  },
  {
   "cell_type": "code",
   "execution_count": 47,
   "metadata": {},
   "outputs": [
    {
     "data": {
      "text/html": [
       "<div>\n",
       "<style scoped>\n",
       "    .dataframe tbody tr th:only-of-type {\n",
       "        vertical-align: middle;\n",
       "    }\n",
       "\n",
       "    .dataframe tbody tr th {\n",
       "        vertical-align: top;\n",
       "    }\n",
       "\n",
       "    .dataframe thead th {\n",
       "        text-align: right;\n",
       "    }\n",
       "</style>\n",
       "<table border=\"1\" class=\"dataframe\">\n",
       "  <thead>\n",
       "    <tr style=\"text-align: right;\">\n",
       "      <th></th>\n",
       "      <th>WS_min</th>\n",
       "      <th>WD_min</th>\n",
       "      <th>WS_max</th>\n",
       "      <th>WD_max</th>\n",
       "      <th>WS_mean</th>\n",
       "      <th>WD_mean</th>\n",
       "      <th>sigma_1</th>\n",
       "      <th>delta_WD_thresh</th>\n",
       "      <th>delta_WD</th>\n",
       "    </tr>\n",
       "    <tr>\n",
       "      <th>datetime</th>\n",
       "      <th></th>\n",
       "      <th></th>\n",
       "      <th></th>\n",
       "      <th></th>\n",
       "      <th></th>\n",
       "      <th></th>\n",
       "      <th></th>\n",
       "      <th></th>\n",
       "      <th></th>\n",
       "    </tr>\n",
       "  </thead>\n",
       "  <tbody>\n",
       "    <tr>\n",
       "      <th>2015-11-30 23:55:12</th>\n",
       "      <td>2.66198</td>\n",
       "      <td>222.166646</td>\n",
       "      <td>3.753405</td>\n",
       "      <td>311.668864</td>\n",
       "      <td>3.064868</td>\n",
       "      <td>261.038154</td>\n",
       "      <td>1.263784</td>\n",
       "      <td>76.41823</td>\n",
       "      <td>89.502218</td>\n",
       "    </tr>\n",
       "  </tbody>\n",
       "</table>\n",
       "</div>"
      ],
      "text/plain": [
       "                      WS_min      WD_min    WS_max      WD_max   WS_mean  \\\n",
       "datetime                                                                   \n",
       "2015-11-30 23:55:12  2.66198  222.166646  3.753405  311.668864  3.064868   \n",
       "\n",
       "                        WD_mean   sigma_1  delta_WD_thresh   delta_WD  \n",
       "datetime                                                               \n",
       "2015-11-30 23:55:12  261.038154  1.263784         76.41823  89.502218  "
      ]
     },
     "execution_count": 47,
     "metadata": {},
     "output_type": "execute_result"
    }
   ],
   "source": [
    "MET.find_EDC_events(sonicdat, params)"
   ]
  },
  {
   "cell_type": "code",
   "execution_count": 59,
   "metadata": {},
   "outputs": [
    {
     "data": {
      "text/plain": [
       "[<matplotlib.lines.Line2D at 0x114664198>]"
      ]
     },
     "execution_count": 59,
     "metadata": {},
     "output_type": "execute_result"
    },
    {
     "data": {
      "image/png": "[encoded data removed]",
      "text/plain": [
       "<matplotlib.figure.Figure at 0x1145cf6a0>"
      ]
     },
     "metadata": {},
     "output_type": "display_data"
    }
   ],
   "source": [
    "plt.plot(tmp['WD_mean'].values)"
   ]
  },
  {
   "cell_type": "code",
   "execution_count": 259,
   "metadata": {},
   "outputs": [
    {
     "data": {
      "text/plain": [
       "'/Volumes/135mData/M5Twr/20Hz/mat/2015/11/08'"
      ]
     },
     "execution_count": 259,
     "metadata": {},
     "output_type": "execute_result"
    }
   ],
   "source": [
    "datapath"
   ]
  },
  {
   "cell_type": "code",
   "execution_count": 260,
   "metadata": {},
   "outputs": [],
   "source": [
    "datapath = os.path.join(metDataPath, str(year),\n",
    "                                    str(month).zfill(2),\n",
    "                                    str(day).zfill(2))"
   ]
  },
  {
   "cell_type": "code",
   "execution_count": 308,
   "metadata": {},
   "outputs": [],
   "source": [
    "keys = ['time', 'WS', 'WD']\n",
    "datakeys = {key:value for key,value in zip(keys,datakeys)}"
   ]
  },
  {
   "cell_type": "code",
   "execution_count": 333,
   "metadata": {},
   "outputs": [],
   "source": [
    "mats = []\n",
    "for file in os.listdir( datapath ) :\n",
    "    mats.append( sio.loadmat( os.path.join(datapath, file) , variable_names=datakeys) )"
   ]
  },
  {
   "cell_type": "code",
   "execution_count": 311,
   "metadata": {},
   "outputs": [
    {
     "name": "stdout",
     "output_type": "stream",
     "text": [
      "6.5 s ± 193 ms per loop (mean ± std. dev. of 7 runs, 1 loop each)\n"
     ]
    }
   ],
   "source": [
    "# %%timeit\n",
    "WS = np.array([])\n",
    "WD = np.array([])\n",
    "time = np.array([])\n",
    "\n",
    "for imat in range(len(mats)):\n",
    "    WS = np.append(WS, mats[imat][datakeys['WS']][0][0][0].flatten())\n",
    "    WD = np.append(WD, mats[imat][datakeys['WD']][0][0][0].flatten())\n",
    "    time = np.append(time, mats[imat][datakeys['time']][0][0][0].flatten())\n",
    "\n",
    "metdat = pd.DataFrame(index=pd.DatetimeIndex(utils.matlab_datenum_to_python_datetime(time)), data=np.vstack((WS, WD)).T, columns=['WS', 'WD'])\n",
    "\n",
    "metdat.replace(to_replace=0.0, value=np.NaN, inplace=True)\n",
    "metdat.dropna(how='any', inplace=True)"
   ]
  },
  {
   "cell_type": "code",
   "execution_count": 313,
   "metadata": {},
   "outputs": [],
   "source": [
    "metdat = metdat.rolling(60, min_periods=1).mean()\n"
   ]
  }
 ],
 "metadata": {
  "kernelspec": {
   "display_name": "Python 3",
   "language": "python",
   "name": "python3"
  },
  "language_info": {
   "codemirror_mode": {
    "name": "ipython",
    "version": 3
   },
   "file_extension": ".py",
   "mimetype": "text/x-python",
   "name": "python",
   "nbconvert_exporter": "python",
   "pygments_lexer": "ipython3",
   "version": "3.6.4"
  }
 },
 "nbformat": 4,
 "nbformat_minor": 2
}
