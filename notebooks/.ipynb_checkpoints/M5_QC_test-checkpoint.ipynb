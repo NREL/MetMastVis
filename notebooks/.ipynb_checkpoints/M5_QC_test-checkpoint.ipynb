{
 "cells": [
  {
   "cell_type": "markdown",
   "metadata": {},
   "source": [
    "# Set up notebook\n",
    "load libraries, etc"
   ]
  },
  {
   "cell_type": "code",
   "execution_count": 1,
   "metadata": {},
   "outputs": [],
   "source": [
    "# fundamentals\n",
    "import os, glob, sys\n",
    "import numpy as np\n",
    "import pandas as pd\n",
    "from calendar import monthrange, month_name\n",
    "import scipy.stats as stats\n",
    "# import funcs as funcs\n",
    "import datetime\n",
    "import imp\n",
    "\n",
    "# plotting libraries and setup\n",
    "from matplotlib.colors import BoundaryNorm\n",
    "import matplotlib.pyplot as plt\n",
    "%matplotlib inline\n",
    "\n",
    "plt.rc('font', family='serif')\n",
    "plt.rc('font', size=12)\n",
    "plt.rc('facecolor', )\n",
    "\n",
    "# met mast functions and utilities\n",
    "sys.path.append('../')\n",
    "import met_funcs as MET\n",
    "import vis as vis\n",
    "import utils as utils"
   ]
  },
  {
   "cell_type": "markdown",
   "metadata": {},
   "source": [
    "## set up data load and figure save paths"
   ]
  },
  {
   "cell_type": "code",
   "execution_count": 2,
   "metadata": {},
   "outputs": [
    {
     "name": "stdout",
     "output_type": "stream",
     "text": [
      "12 files to be read into MetData\n"
     ]
    }
   ],
   "source": [
    "# paths (must mount volume smb://nrel.gov/shared/wind/WindWeb/MetData/135mData/)\n",
    "towerID = 'M5'\n",
    "metPathLoHz = '/Users/nhamilto/Documents/Wake_Dynamics/SiteChar/data/{}/txt/'.format(towerID)\n",
    "figPath = '../../figs/{}'.format(towerID)\n",
    "\n",
    "# time range\n",
    "years  = [ int(a) for a in np.arange(2017,2018,1) ] #\n",
    "months = [ int(a) for a in np.arange(1,12.1,1) ]\n",
    "\n",
    "inputfiles = [] # list of files to be read into metdata object\n",
    "filecount = 0\n",
    "\n",
    "for year in years:\n",
    "    for month in months:\n",
    "        fName = glob.glob(os.path.join(metPathLoHz,'{0}_{1}.txt'.format(year,month_name[month])))        \n",
    "        if len(fName)>0:\n",
    "            fName = fName[0] \n",
    "            inputfiles.append(fName)\n",
    "print('{} files to be read into MetData'.format(len(inputfiles)))"
   ]
  },
  {
   "cell_type": "markdown",
   "metadata": {},
   "source": [
    "## Load data\n",
    "### remove columns that are all NaN\n",
    "### remove columns that are not in the list of variables we care about"
   ]
  },
  {
   "cell_type": "code",
   "execution_count": 3,
   "metadata": {},
   "outputs": [],
   "source": [
    "metdat = MET.load_met_data(inputfiles, verbose=False)\n",
    "\n",
    "metdat = MET.drop_nan_cols(metdat)\n",
    "# simply applies Pandas DataFrame method:\n",
    "# metdat.dropna(axis=1,how='all', inplace=True)\n",
    "\n",
    "keepcols = MET.categories_to_keep()\n",
    "keepcols = [col for col in metdat.columns \n",
    "            if col.split(' (')[0].lower() in keepcols \n",
    "            if '.1' not in col]\n",
    "dropcols = [col for col in metdat.columns if col not in keepcols]\n",
    "\n",
    "metdat.drop(dropcols,axis=1,inplace=True)"
   ]
  },
  {
   "cell_type": "markdown",
   "metadata": {},
   "source": [
    "## apply qc flags to data\n",
    "\n",
    "most data channels have a respective quality control column,\n",
    "\n",
    "``` <data channel A>, <QC channel A>```\n",
    "\n",
    "That communicates whether the respective 10-minute binned data point should be considered valid (`qc=1`), questionable (`qc=0`), or should be rejected (`qc=-1`).\n",
    "\n",
    "A QC mask must be applied to each data channel individually, as we don't want to exclude a point from `<data channel A>` based on `<QC channel not(A)>`"
   ]
  },
  {
   "cell_type": "code",
   "execution_count": 4,
   "metadata": {},
   "outputs": [
    {
     "name": "stdout",
     "output_type": "stream",
     "text": [
      "number of data columns: 100\n",
      "number of QC columns: 106\n"
     ]
    }
   ],
   "source": [
    "metdat = MET.qc_mask(metdat)"
   ]
  },
  {
   "cell_type": "markdown",
   "metadata": {},
   "source": [
    "## add a new category 'Stability flag' \n",
    "calculated from Monin-Obukhov length at various heights"
   ]
  },
  {
   "cell_type": "code",
   "execution_count": 5,
   "metadata": {},
   "outputs": [],
   "source": [
    "## flag data by stability class\n",
    "stabconds, stabcat = MET.flag_stability(metdat)"
   ]
  },
  {
   "cell_type": "markdown",
   "metadata": {},
   "source": [
    "## caterogize data channels remaining\n",
    "identify different categories\n",
    "assign each units, labels, and savenames"
   ]
  },
  {
   "cell_type": "code",
   "execution_count": 6,
   "metadata": {},
   "outputs": [],
   "source": [
    "## group columns based on category, assign units, labels, savenames\n",
    "varcats, varunits, varlabels, varsave = MET.categorize_fields(metdat, keeplist=True)"
   ]
  },
  {
   "cell_type": "markdown",
   "metadata": {},
   "source": [
    "## final, ad-hoc tuning\n",
    "filter out turbulence for wind speed < 1 m/s\n",
    "\n",
    "filter obukhov length > 2000\n",
    "\n",
    "filter air temp to be in degrees C\n",
    "\n",
    "filter gradient richardson number > 20\n"
   ]
  },
  {
   "cell_type": "code",
   "execution_count": 7,
   "metadata": {},
   "outputs": [],
   "source": [
    "## drop columns not in any of the categories, filter TI, temperature, stability parameters\n",
    "MET.groom_data(metdat, varcats)"
   ]
  },
  {
   "cell_type": "markdown",
   "metadata": {},
   "source": [
    "## outlier detection on remaining data"
   ]
  },
  {
   "cell_type": "code",
   "execution_count": 8,
   "metadata": {},
   "outputs": [],
   "source": [
    "## Finally, reject outliers more than 5 standard deviations from the mean\n",
    "for col in metdat.columns:\n",
    "    try:\n",
    "        metdat[col] = MET.reject_outliers(metdat[col], m=6)\n",
    "    except:\n",
    "        continue"
   ]
  },
  {
   "cell_type": "markdown",
   "metadata": {},
   "source": [
    "## combine categorical information into a dictionary for easy use"
   ]
  },
  {
   "cell_type": "code",
   "execution_count": 9,
   "metadata": {},
   "outputs": [],
   "source": [
    "catinfo = {}\n",
    "catinfo['columns'] = varcats\n",
    "catinfo['units'] = varunits\n",
    "catinfo['labels'] = varlabels\n",
    "catinfo['save'] = varsave"
   ]
  },
  {
   "cell_type": "code",
   "execution_count": 10,
   "metadata": {},
   "outputs": [],
   "source": [
    "# M5 excluded angles,\n",
    "# Obstruction,\tstart ang.\tend ang.\n",
    "# GE\t\t\t46\t\t146\n",
    "# Alstom\t\t123\t\t203\n",
    "# CART-3\t\t172\t\t213\n",
    "# CART-2\t\t177\t\t212\n",
    "# Siemens\t\t165\t\t210\n",
    "# Gamesa\t\t189\t\t228\n",
    "exclude_angles = [(46,146),(123,203),(172,213),(177,212),(165,210),(189,228)]"
   ]
  },
  {
   "cell_type": "markdown",
   "metadata": {},
   "source": [
    "# Shortcut version \n",
    "Added a new function in MET called 'fix_data_for_transfer' that includes all of the above QC and filtering."
   ]
  },
  {
   "cell_type": "code",
   "execution_count": null,
   "metadata": {},
   "outputs": [],
   "source": [
    "metdat = MET.load_met_data(inputfiles, verbose=False)\n",
    "\n",
    "metdat, catinfo = MET.fix_data_for_transfer(metdat)"
   ]
  },
  {
   "cell_type": "code",
   "execution_count": null,
   "metadata": {},
   "outputs": [],
   "source": []
  }
 ],
 "metadata": {
  "kernelspec": {
   "display_name": "Python 3",
   "language": "python",
   "name": "python3"
  },
  "language_info": {
   "codemirror_mode": {
    "name": "ipython",
    "version": 3
   },
   "file_extension": ".py",
   "mimetype": "text/x-python",
   "name": "python",
   "nbconvert_exporter": "python",
   "pygments_lexer": "ipython3",
   "version": "3.6.4"
  }
 },
 "nbformat": 4,
 "nbformat_minor": 2
}
