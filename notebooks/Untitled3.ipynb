{
 "cells": [
  {
   "cell_type": "code",
   "execution_count": 1,
   "metadata": {},
   "outputs": [],
   "source": [
    "%load_ext autoreload\n",
    "%autoreload 2\n",
    "\n",
    "# fundamentals\n",
    "import os, sys\n",
    "import numpy as np\n",
    "import pandas as pd\n",
    "from calendar import monthrange, month_name\n",
    "import scipy.stats as stats\n",
    "import datetime\n",
    "import imp\n",
    "import scipy.io as sio\n",
    "import pickle as pkl\n",
    "\n",
    "# plotting libraries and setup\n",
    "from matplotlib.colors import BoundaryNorm\n",
    "import matplotlib.pyplot as plt\n",
    "plt.style.use('nrelplot')\n",
    "from windrose import WindroseAxes\n",
    "\n",
    "# met mast functions and utilities\n",
    "sys.path.append('../')\n",
    "import met_funcs as MET\n",
    "import vis as vis\n",
    "import utils as utils"
   ]
  },
  {
   "cell_type": "code",
   "execution_count": 2,
   "metadata": {},
   "outputs": [],
   "source": [
    "datapath = '/Users/nhamilto/Documents/Wake_Dynamics/SiteChar/data/IEC_tmp/'\n",
    "monthly_events_files = os.listdir(datapath)\n",
    "today = datetime.date.today()\n",
    "figpath = '../figs_{}{}{}'.format(str(today.year), str(today.month).zfill(2), str(today.day).zfill(2))\n",
    "\n",
    "try:\n",
    "    os.makedirs(figpath)\n",
    "except:\n",
    "    pass"
   ]
  },
  {
   "cell_type": "code",
   "execution_count": 3,
   "metadata": {},
   "outputs": [],
   "source": [
    "def EDC_alt(sonicdat, params, T=6.0):\n",
    "    # smoothsonic = sonicdat.rolling(60, min_periods=1).mean()\n",
    "    tmp = MET.sonic_data_resampler(sonicdat, 6.0)\n",
    "\n",
    "    # calculate diff: Delta_WD = WD_(t+1) - WD_(t-1)\n",
    "    tmpa = tmp['WD_mean'].diff(periods=1)\n",
    "    tmpb = tmp['WD_mean'].diff(periods=-1)\n",
    "    tmp['deltaWD'] = tmpa-tmpb\n",
    "\n",
    "    # Orient Delta_WD onto compass (i.e. change > 180 degrees corresponds to a change in the other direction)\n",
    "    tmp.deltaWD[tmp.deltaWD > 180] = -360 + tmp.deltaWD[tmp.deltaWD > 180]\n",
    "    tmp.deltaWD[tmp.deltaWD < -180] = 360 + tmp.deltaWD[tmp.deltaWD < -180]\n",
    "\n",
    "    # Turbulence standard deviation depends on mean wind speed\n",
    "    tmp['sigma_1'] = params['Iref'] * (0.75 * tmp['WS_mean'] + 5.6)\n",
    "\n",
    "    # Direction change threshold depends on wind speed\n",
    "    tmp['delta_WD_thresh'] = np.degrees(4 * np.arctan( tmp['sigma_1'] / (tmp['WS_mean'] * (1 + 0.1 * params['D'] / params['Lambda_1']))))\n",
    "\n",
    "    # event detection\n",
    "    tmpEDC = tmp[(tmp['deltaWD'] > tmp['delta_WD_thresh']) | (tmp['deltaWD'] < -tmp['delta_WD_thresh'])]\n",
    "    \n",
    "    return tmpEDC"
   ]
  },
  {
   "cell_type": "code",
   "execution_count": null,
   "metadata": {},
   "outputs": [
    {
     "name": "stdout",
     "output_type": "stream",
     "text": [
      "reading 20Hz data for 2012/10\n"
     ]
    },
    {
     "name": "stderr",
     "output_type": "stream",
     "text": [
      "/Users/nhamilto/.local/lib/python3.6/site-packages/numpy/core/_methods.py:29: RuntimeWarning: invalid value encountered in reduce\n",
      "  return umr_minimum(a, axis, None, out, keepdims)\n",
      "/Users/nhamilto/.local/lib/python3.6/site-packages/numpy/core/_methods.py:26: RuntimeWarning: invalid value encountered in reduce\n",
      "  return umr_maximum(a, axis, None, out, keepdims)\n"
     ]
    }
   ],
   "source": [
    "# time range\n",
    "# years  = [ int(a) for a in np.arange(2012,2019,1) ] #\n",
    "# months = [ int(a) for a in np.arange(1,12.1,1) ]\n",
    "# days = [int(a) for a in np.arange(1,31.1,1)]\n",
    "# 2012-10-01\n",
    "years  = [ 2012 ] #\n",
    "months = [ 10 ]\n",
    "days = [int(a) for a in np.arange(1,31.1,1)]\n",
    "\n",
    "# paths (must mount volume smb://nrel.gov/shared/wind/WindWeb/MetData/135mData/)\n",
    "towerID = 'M5'\n",
    "metDataPath = '/Volumes/135mData/{}Twr/20Hz/mat/'.format(towerID)\n",
    "\n",
    "savepath = '/Users/nhamilto/Documents/Wake_Dynamics/SiteChar/data/IEC_tmp'\n",
    "try:\n",
    "    os.makedirs(savepath)\n",
    "except:\n",
    "    pass\n",
    "\n",
    "wskeys = ['Cup_WS_C1_130m',\n",
    " 'Cup_WS_122m',\n",
    " 'Cup_WS_C1_105m',\n",
    " 'Cup_WS_87m',\n",
    " 'Cup_WS_C1_80m',\n",
    " 'Cup_WS_C1_55m',\n",
    " 'Cup_WS_38m',\n",
    " 'Cup_WS_C1_30m',\n",
    " 'Cup_WS_10m',\n",
    " 'Cup_WS_3m',\n",
    " 'Sonic_CupEqHorizSpeed_119m',\n",
    " 'Sonic_CupEqHorizSpeed_100m',\n",
    " 'Sonic_CupEqHorizSpeed_74m',\n",
    " 'Sonic_CupEqHorizSpeed_61m',\n",
    " 'Sonic_CupEqHorizSpeed_41m',\n",
    " 'Sonic_CupEqHorizSpeed_15m']\n",
    "\n",
    "wdkeys = ['Vane_WD_122m',\n",
    " 'Vane_WD_87m',\n",
    " 'Vane_WD_38m',\n",
    " 'Vane_WD_10m',\n",
    " 'Vane_WD_3m',\n",
    " 'Sonic_direction_119m',\n",
    " 'Sonic_direction_100m',\n",
    " 'Sonic_direction_74m',\n",
    " 'Sonic_direction_61m',\n",
    " 'Sonic_direction_41m',\n",
    " 'Sonic_direction_15m']\n",
    "\n",
    "# %%timeit\n",
    "probeheight = str(87)\n",
    "datakeys = [['time_UTC'], [x for x in wskeys if probeheight in x], [x for x in wdkeys if probeheight in x]]\n",
    "datakeys = [item for sublist in datakeys for item in sublist]\n",
    "keys = ['time', 'WS', 'WD']\n",
    "datakeys = {key:value for key,value in zip(keys,datakeys)}\n",
    "\n",
    "# extract variables needed for classificiation of IEC events\n",
    "params = MET.setup_IEC_params() # sonicdat, probeheight=100\n",
    "    \n",
    "for year in years:\n",
    "    for month in months:\n",
    "\n",
    "        # begin empty lists for events\n",
    "        EOGevents = pd.DataFrame()\n",
    "        EOGeventsALT = pd.DataFrame()\n",
    "        \n",
    "        print('reading 20Hz data for {}/{}'.format(year, month))\n",
    "\n",
    "        for day in days:            \n",
    "            datapath = os.path.join(metDataPath, str(year),\n",
    "                                    str(month).zfill(2),\n",
    "                                    str(day).zfill(2))\n",
    "            \n",
    "            # temp arrays for data i/o\n",
    "            WS = np.array([])\n",
    "            WD = np.array([])\n",
    "            time = np.array([])\n",
    "            mats = []\n",
    "            \n",
    "            try:\n",
    "                filelist = os.listdir(datapath)\n",
    "            except:\n",
    "                print('data not found: {}'.format(datapath))\n",
    "                continue\n",
    "                              \n",
    "            for file in filelist:\n",
    "                tmp = sio.loadmat( os.path.join(datapath, file) , variable_names=datakeys.values())\n",
    "                WS = np.append(WS, tmp[datakeys['WS']][0][0][0].flatten())\n",
    "                WD = np.append(WD, tmp[datakeys['WD']][0][0][0].flatten())\n",
    "                time = np.append(time, tmp[datakeys['time']][0][0][0].flatten())\n",
    "\n",
    "                metdat = pd.DataFrame(index=pd.DatetimeIndex(utils.matlab_datenum_to_python_datetime(time)), \n",
    "                                      data=np.vstack((WS, WD)).T, columns=['WS', 'WD'])\n",
    "\n",
    "            # replace 0 values with nans, \n",
    "            # drop all nan values,\n",
    "            # rolling average of 3 s\n",
    "                metdat = metdat.replace(to_replace=0.0, value=np.NaN).dropna(how='any').rolling(60, min_periods=1).mean()\n",
    "\n",
    "            EOG_events_found = MET.find_EOG_events(metdat, params)\n",
    "            EOGCevents = pd.concat([EOGevents, EOG_events_found])\n",
    "            \n",
    "            EOG_events_found = find_EOG_events_ALT(metdat, params)\n",
    "            EOGCeventsALT = pd.concat([EOGevents, EOG_events_found])\n",
    "            \n",
    "#             EDC_events_found = MET.find_EDC_events(metdat, params)\n",
    "#             EDCevents = pd.concat([EDCevents, EDC_events_found])\n",
    "\n",
    "#             EDC_events_found = EDC_alt(metdat, params)\n",
    "#             EDCeventsALT = pd.concat([EDCeventsALT, EDC_events_found])\n",
    "            \n",
    "#             ECD_events_found = MET.find_ECD_events(sonicdat, params)\n",
    "#             ECDevents = pd.concat([ECDevents, ECD_events_found])\n",
    "\n",
    "#                 allshearcalcs = pd.concat([allshearcalcs, shearevents])\n",
    "                                \n",
    "#         if len(EWSevents) > 0:\n",
    "#             filename = 'EWSevents_{}_{}.pkl'.format(year, month)\n",
    "#             savefile = os.path.join(savepath, filename)\n",
    "#             print('EWS event detected. Stored to: {}'.format(filename))\n",
    "#             with open(savefile, 'wb') as f:\n",
    "#                 pkl.dump(EWSevents, f, pkl.HIGHEST_PROTOCOL)"
   ]
  },
  {
   "cell_type": "code",
   "execution_count": null,
   "metadata": {},
   "outputs": [],
   "source": [
    "EOGCevents.shape"
   ]
  },
  {
   "cell_type": "code",
   "execution_count": null,
   "metadata": {},
   "outputs": [],
   "source": [
    "EOGCeventsALT.shape"
   ]
  },
  {
   "cell_type": "code",
   "execution_count": 22,
   "metadata": {},
   "outputs": [],
   "source": [
    "###########################################\n",
    "def find_EOG_events_ALT(sonicdat, params, T=10.5):\n",
    "    \"\"\"\n",
    "    Find extreme operating wind gust events.\n",
    "\n",
    "    This function takes inputs from a pandas DataFrame containing all of the desired data and International Electrotechnical Commission (IEC) parameters at the given period for search, determines extreme operating wind gust events, and returns the findings in an object which can be used to index files later.\n",
    "\n",
    "        :param sonicdat: A pandas DataFrame containing all of the desired data at the given probe height including wind speed, wind direction, and the date and timestamps of the input data.\n",
    "\n",
    "        :param params: A dictionary containing all of the parameters established by the IEC for the given input data and probe height.\n",
    "\n",
    "        :param T: A float used to define the period for search (Seconds).\n",
    "\n",
    "        :returns EOGeventfound: An object used to store any significant extreme operating wind gust events.\n",
    "    \"\"\"\n",
    "    # resample at T seconds\n",
    "    sonic_10_5s = MET.sonic_data_resampler(sonicdat, T)\n",
    "\n",
    "    sonic_10_5s['WS_mean'] = sonic_10_5s.WS_mean.resample('10T').mean()\n",
    "    sonic_10_5s['WS_mean'].interpolate('nearest')\n",
    "\n",
    "    # calc IEC standard velocity variance\n",
    "    sigma_1 = params['Iref'] * (0.75 * sonic_10_5s['WS_mean'] + 5.6)\n",
    "\n",
    "    test1 = 1.35 * (params['Ve01'] - sonic_10_5s['WS_mean'])\n",
    "    test2 = 3.3 * (sigma_1 / (1 + 0.1 * params['D'] / params['Lambda_1']))\n",
    "\n",
    "    # IEC gust velocity magnitude threshold\n",
    "    Vgust = np.min(np.vstack([test1.values, test2.values]), axis=0)\n",
    "\n",
    "    t = np.linspace(0, T, 101)\n",
    "    WS_pos_gustlim = np.zeros(Vgust.shape)\n",
    "    WS_neg_gustlim = np.zeros(Vgust.shape)\n",
    "    for ii, vv in enumerate(Vgust):\n",
    "        mod = 0.37 * vv * np.sin(\n",
    "            3 * np.pi * t / T) * (1 - np.cos(2 * np.pi * t / T))\n",
    "        WS_pos_gustlim[ii] = sonic_10_5s['WS_mean'].iloc[ii] - mod.min()\n",
    "        WS_neg_gustlim[ii] = sonic_10_5s['WS_mean'].iloc[ii] - mod.max()\n",
    "\n",
    "    sonic_10_5s['WS_pos_gustlim'] = WS_pos_gustlim\n",
    "    sonic_10_5s['WS_neg_gustlim'] = WS_neg_gustlim\n",
    "\n",
    "    posmask = sonic_10_5s['WS_max'] > sonic_10_5s['WS_pos_gustlim']\n",
    "    negmask = sonic_10_5s['WS_min'] < sonic_10_5s['WS_neg_gustlim']\n",
    "\n",
    "    # test for EOG events (pos or pos+neg)\n",
    "    singletest = sonic_10_5s[posmask]\n",
    "    # doubletest = sonic_10_5s[posmask & negmask]\n",
    "\n",
    "    return singletest  #, doubletest\n",
    "\n",
    "\n",
    "###########################################"
   ]
  },
  {
   "cell_type": "code",
   "execution_count": 14,
   "metadata": {},
   "outputs": [],
   "source": [
    "metdat['10minmean']=metdat.WS.resample('10T').mean()"
   ]
  },
  {
   "cell_type": "code",
   "execution_count": 17,
   "metadata": {},
   "outputs": [
    {
     "data": {
      "text/plain": [
       "(1566561,)"
      ]
     },
     "execution_count": 17,
     "metadata": {},
     "output_type": "execute_result"
    }
   ],
   "source": [
    "metdat['10minmean'].interpolate('nearest').dropna(how='any').shape"
   ]
  },
  {
   "cell_type": "code",
   "execution_count": 18,
   "metadata": {},
   "outputs": [
    {
     "data": {
      "text/plain": [
       "(1674560, 3)"
      ]
     },
     "execution_count": 18,
     "metadata": {},
     "output_type": "execute_result"
    }
   ],
   "source": [
    "metdat.shape"
   ]
  },
  {
   "cell_type": "code",
   "execution_count": null,
   "metadata": {},
   "outputs": [],
   "source": []
  }
 ],
 "metadata": {
  "kernelspec": {
   "display_name": "Python 3",
   "language": "python",
   "name": "python3"
  },
  "language_info": {
   "codemirror_mode": {
    "name": "ipython",
    "version": 3
   },
   "file_extension": ".py",
   "mimetype": "text/x-python",
   "name": "python",
   "nbconvert_exporter": "python",
   "pygments_lexer": "ipython3",
   "version": "3.6.4"
  }
 },
 "nbformat": 4,
 "nbformat_minor": 2
}
